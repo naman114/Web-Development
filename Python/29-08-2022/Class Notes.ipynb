{
 "cells": [
  {
   "cell_type": "markdown",
   "id": "3e1c1d21",
   "metadata": {},
   "source": [
    "# Set (Unordered)"
   ]
  },
  {
   "cell_type": "code",
   "execution_count": 3,
   "id": "38b71825",
   "metadata": {},
   "outputs": [
    {
     "name": "stdout",
     "output_type": "stream",
     "text": [
      "{4, 5}\n"
     ]
    }
   ],
   "source": [
    "a = {4,4,5}\n",
    "print(a)"
   ]
  },
  {
   "cell_type": "markdown",
   "id": "7b10778e",
   "metadata": {},
   "source": [
    "### Access using indices is not allowed"
   ]
  },
  {
   "cell_type": "code",
   "execution_count": 4,
   "id": "0c99f76b",
   "metadata": {},
   "outputs": [
    {
     "ename": "TypeError",
     "evalue": "'set' object is not subscriptable",
     "output_type": "error",
     "traceback": [
      "\u001b[1;31m---------------------------------------------------------------------------\u001b[0m",
      "\u001b[1;31mTypeError\u001b[0m                                 Traceback (most recent call last)",
      "Input \u001b[1;32mIn [4]\u001b[0m, in \u001b[0;36m<cell line: 1>\u001b[1;34m()\u001b[0m\n\u001b[1;32m----> 1\u001b[0m \u001b[38;5;28mprint\u001b[39m(\u001b[43ma\u001b[49m\u001b[43m[\u001b[49m\u001b[38;5;241;43m1\u001b[39;49m\u001b[43m]\u001b[49m)\n",
      "\u001b[1;31mTypeError\u001b[0m: 'set' object is not subscriptable"
     ]
    }
   ],
   "source": [
    "print(a[1])"
   ]
  },
  {
   "cell_type": "markdown",
   "id": "0b29418e",
   "metadata": {},
   "source": [
    "### .union() .intersection() .difference()"
   ]
  },
  {
   "cell_type": "code",
   "execution_count": 7,
   "id": "7f3dbd0d",
   "metadata": {},
   "outputs": [
    {
     "name": "stdout",
     "output_type": "stream",
     "text": [
      "{1, 2, 3, 4, 5}\n",
      "{3}\n"
     ]
    }
   ],
   "source": [
    "s1 = {1,2,3}\n",
    "s2 = {3,4,5}\n",
    "s3 = set.union(s1,s2)\n",
    "s4 = set.intersection(s1,s2)\n",
    "print(s3)\n",
    "print(s4)"
   ]
  },
  {
   "cell_type": "markdown",
   "id": "a7d2fd3e",
   "metadata": {},
   "source": [
    "### Convert list into set"
   ]
  },
  {
   "cell_type": "code",
   "execution_count": 12,
   "id": "07c12f27",
   "metadata": {},
   "outputs": [
    {
     "name": "stdout",
     "output_type": "stream",
     "text": [
      "{1, 2, 3, 4}\n"
     ]
    }
   ],
   "source": [
    "arr = [3,4,4,1,2,2]\n",
    "s5 = set(arr)\n",
    "print(s5)"
   ]
  },
  {
   "cell_type": "markdown",
   "id": "d1f017b9",
   "metadata": {},
   "source": [
    "### Convert set to list"
   ]
  },
  {
   "cell_type": "code",
   "execution_count": 10,
   "id": "f97f0258",
   "metadata": {},
   "outputs": [
    {
     "name": "stdout",
     "output_type": "stream",
     "text": [
      "[1, 2, 3, 4]\n"
     ]
    }
   ],
   "source": [
    "listFromSet = list(s5)\n",
    "print(listFromSet)"
   ]
  },
  {
   "cell_type": "markdown",
   "id": "582022a1",
   "metadata": {},
   "source": [
    "# Dictionary (Mutable)"
   ]
  },
  {
   "cell_type": "code",
   "execution_count": 13,
   "id": "4780c00f",
   "metadata": {},
   "outputs": [
    {
     "name": "stdout",
     "output_type": "stream",
     "text": [
      "{'one': 1, 'two': 2, 'three': 3}\n"
     ]
    }
   ],
   "source": [
    "dict1 = dict(one=1, two=2, three=3)\n",
    "print(dict1)"
   ]
  },
  {
   "cell_type": "code",
   "execution_count": 14,
   "id": "712b0eed",
   "metadata": {},
   "outputs": [
    {
     "name": "stdout",
     "output_type": "stream",
     "text": [
      "{'four': 4}\n"
     ]
    }
   ],
   "source": [
    "dict2 = {'four': 4}\n",
    "print(dict2)"
   ]
  },
  {
   "cell_type": "markdown",
   "id": "85f7f1b3",
   "metadata": {},
   "source": [
    "### Zipping the key and value list is suitable for larger data"
   ]
  },
  {
   "cell_type": "code",
   "execution_count": 18,
   "id": "a27500c3",
   "metadata": {},
   "outputs": [
    {
     "name": "stdout",
     "output_type": "stream",
     "text": [
      "{'five': 5, 'six': 6}\n"
     ]
    }
   ],
   "source": [
    "dict3 = dict(zip(['five', 'six'], [5,6]))\n",
    "print(dict3)"
   ]
  },
  {
   "cell_type": "markdown",
   "id": "db2551e5",
   "metadata": {},
   "source": [
    "### Create dict using list of tuples"
   ]
  },
  {
   "cell_type": "code",
   "execution_count": 20,
   "id": "ac4ad55c",
   "metadata": {},
   "outputs": [
    {
     "name": "stdout",
     "output_type": "stream",
     "text": [
      "{'seven': 7, 'eight': 8}\n"
     ]
    }
   ],
   "source": [
    "dict4 = dict([('seven', 7), ('eight', 8)])\n",
    "print(dict4)"
   ]
  },
  {
   "cell_type": "markdown",
   "id": "3c800737",
   "metadata": {},
   "source": [
    "### del keyword"
   ]
  },
  {
   "cell_type": "code",
   "execution_count": 21,
   "id": "2b1bb945",
   "metadata": {},
   "outputs": [
    {
     "name": "stdout",
     "output_type": "stream",
     "text": [
      "{'nine': 9, 'ten': 10}\n",
      "{'ten': 10}\n"
     ]
    }
   ],
   "source": [
    "dict5 = {'nine': 9, 'ten': 10}\n",
    "print(dict5)\n",
    "del dict5['nine']\n",
    "print(dict5)"
   ]
  },
  {
   "cell_type": "markdown",
   "id": "21b37de3",
   "metadata": {},
   "source": [
    "### ***tuples are immutable***"
   ]
  },
  {
   "cell_type": "markdown",
   "id": "99368d96",
   "metadata": {},
   "source": [
    "# Strings (Read fstrings)"
   ]
  },
  {
   "cell_type": "markdown",
   "id": "f7a0224b",
   "metadata": {},
   "source": [
    "# Conditionals"
   ]
  },
  {
   "cell_type": "code",
   "execution_count": 27,
   "id": "a52c20da",
   "metadata": {},
   "outputs": [
    {
     "name": "stdout",
     "output_type": "stream",
     "text": [
      "Enter your age: -19\n",
      "Absolute value is 19\n"
     ]
    }
   ],
   "source": [
    "age = int(input('Enter your age: '))\n",
    "if age < 0:\n",
    "    print('Absolute value is', -age)\n",
    "else:\n",
    "    print('Absolute value is', age)"
   ]
  },
  {
   "cell_type": "markdown",
   "id": "23171180",
   "metadata": {},
   "source": [
    "### Multiple inputs using single line of code"
   ]
  },
  {
   "cell_type": "code",
   "execution_count": 30,
   "id": "53f96a2b",
   "metadata": {},
   "outputs": [
    {
     "name": "stdout",
     "output_type": "stream",
     "text": [
      "Enter first: 12\n",
      "Enter second: 3\n",
      "Sum is: 15\n"
     ]
    }
   ],
   "source": [
    "x,y = int(input('Enter first: ')), int(input('Enter second: '))\n",
    "print('Sum is:', x + y)"
   ]
  },
  {
   "cell_type": "code",
   "execution_count": 38,
   "id": "31916fc8",
   "metadata": {},
   "outputs": [
    {
     "name": "stdout",
     "output_type": "stream",
     "text": [
      "Enter 2 numbers space sep: 13 2\n",
      "Diff is: 11\n"
     ]
    }
   ],
   "source": [
    "[x,y] = [int(x) for x in input('Enter 2 numbers space sep: ').split(' ')]\n",
    "print('Diff is:', x - y)"
   ]
  },
  {
   "cell_type": "markdown",
   "id": "21b798f3",
   "metadata": {},
   "source": [
    "### Comparing"
   ]
  },
  {
   "cell_type": "code",
   "execution_count": 39,
   "id": "9729938d",
   "metadata": {},
   "outputs": [
    {
     "name": "stdout",
     "output_type": "stream",
     "text": [
      "True\n"
     ]
    }
   ],
   "source": [
    "print(1/3 == 2/6)"
   ]
  },
  {
   "cell_type": "markdown",
   "id": "e600615b",
   "metadata": {},
   "source": [
    "### List comparison - index by index"
   ]
  },
  {
   "cell_type": "code",
   "execution_count": 46,
   "id": "fcdb051a",
   "metadata": {},
   "outputs": [
    {
     "name": "stdout",
     "output_type": "stream",
     "text": [
      "True\n"
     ]
    }
   ],
   "source": [
    "list1 = [1, 'a', 1.2]\n",
    "list2 = [1, 'a', 1.21]\n",
    "print(list1 < list2)"
   ]
  },
  {
   "cell_type": "markdown",
   "id": "65c5e77c",
   "metadata": {},
   "source": [
    "### Dict and Set comparison - either equal or not as index by index is not possible"
   ]
  },
  {
   "cell_type": "markdown",
   "id": "ada266e3",
   "metadata": {},
   "source": [
    "### in and not in keywords"
   ]
  },
  {
   "cell_type": "code",
   "execution_count": 49,
   "id": "624df5da",
   "metadata": {},
   "outputs": [
    {
     "name": "stdout",
     "output_type": "stream",
     "text": [
      "No\n"
     ]
    }
   ],
   "source": [
    "list2 = [1,2,4]\n",
    "if 5 in list2:\n",
    "    print(\"Yes\")\n",
    "else:\n",
    "    print(\"No\")"
   ]
  },
  {
   "cell_type": "code",
   "execution_count": 51,
   "id": "7ca217d0",
   "metadata": {},
   "outputs": [
    {
     "name": "stdout",
     "output_type": "stream",
     "text": [
      "Hai\n"
     ]
    }
   ],
   "source": [
    "str1 = \"python is great\"\n",
    "if \"great\" in str1:\n",
    "    print(\"Hai\")\n",
    "else:\n",
    "    print(\"Nahi hai\")"
   ]
  },
  {
   "cell_type": "markdown",
   "id": "4771d6e4",
   "metadata": {},
   "source": [
    "### is keyword - compares the memory address"
   ]
  },
  {
   "cell_type": "code",
   "execution_count": 56,
   "id": "020fc721",
   "metadata": {},
   "outputs": [
    {
     "name": "stdout",
     "output_type": "stream",
     "text": [
      "same\n"
     ]
    }
   ],
   "source": [
    "x = 1\n",
    "y = 1\n",
    "if(x y):\n",
    "    print(\"same\")\n",
    "else:\n",
    "    print(\"not same\")"
   ]
  },
  {
   "cell_type": "code",
   "execution_count": null,
   "id": "5cccf8ed",
   "metadata": {},
   "outputs": [],
   "source": []
  }
 ],
 "metadata": {
  "kernelspec": {
   "display_name": "Python 3 (ipykernel)",
   "language": "python",
   "name": "python3"
  },
  "language_info": {
   "codemirror_mode": {
    "name": "ipython",
    "version": 3
   },
   "file_extension": ".py",
   "mimetype": "text/x-python",
   "name": "python",
   "nbconvert_exporter": "python",
   "pygments_lexer": "ipython3",
   "version": "3.10.2"
  }
 },
 "nbformat": 4,
 "nbformat_minor": 5
}
