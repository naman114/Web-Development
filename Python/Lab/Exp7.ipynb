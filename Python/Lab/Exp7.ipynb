{
 "cells": [
  {
   "cell_type": "markdown",
   "id": "79c60c99",
   "metadata": {},
   "source": [
    "# Experiment 7\n",
    "\n",
    "### Write a Class Calender that prints Month, Year and Date\n",
    "### Write a Class Clock that prints Time.\n",
    "### Also Write a Class CalenderClock"
   ]
  },
  {
   "cell_type": "code",
   "execution_count": 5,
   "id": "8bb03ec6",
   "metadata": {},
   "outputs": [],
   "source": [
    "class Calendar(object):\n",
    "    months = (31,28,31,30,31,30,31,31,30,31,30,31)\n",
    "    def __init__(self, day=1, month=1, year=2000):\n",
    "            self.__day = day\n",
    "            self.__month = month\n",
    "            self.__year = year\n",
    "\n",
    "\n",
    "    def leapyear(self,y):\n",
    "         if y % 4:\n",
    "            return 0\n",
    "         else:\n",
    "            if y % 100:\n",
    "                 return 1\n",
    "            else:\n",
    "                 if y % 400:\n",
    "                    return 0\n",
    "                 else:\n",
    "                    return 1\n",
    "\n",
    "\n",
    "    def set(self, day, month, year):\n",
    "            self.__day = day\n",
    "            self.__month = month\n",
    "            self.__year = year\n",
    "\n",
    "\n",
    "    def get():\n",
    "         return (self, self.__day, self.__month, self.__year)\n",
    "\n",
    "\n",
    "    def __str__(self):\n",
    "         return str(self.__day)+\"/\"+ str(self.__month)+ \"/\"+ str(self.__year)\n"
   ]
  },
  {
   "cell_type": "code",
   "execution_count": 6,
   "id": "c641917f",
   "metadata": {},
   "outputs": [
    {
     "name": "stdout",
     "output_type": "stream",
     "text": [
      "3/11/2022\n"
     ]
    }
   ],
   "source": [
    "obj = Calendar(3, 11, 2022)\n",
    "print(obj)"
   ]
  },
  {
   "cell_type": "code",
   "execution_count": 7,
   "id": "94cccd90",
   "metadata": {},
   "outputs": [],
   "source": [
    "class Clock(object):\n",
    "    def __init__(self,hours=0, minutes=0, seconds=0):\n",
    "        self.__hours = hours\n",
    "        self.__minutes = minutes\n",
    "        self.__seconds = seconds\n",
    "\n",
    "\n",
    "    def set(self,hours, minutes, seconds=0):\n",
    "        self.__hours = hours\n",
    "        self.__minutes = minutes\n",
    "        self.__seconds = seconds\n",
    "    def display(self):\n",
    "         print(\"%d:%d:%d\" % (self.__hours, self.__minutes, self.__seconds))\n",
    "\n",
    "\n",
    "    def __str__(self):\n",
    "        return \"%2d:%2d:%2d\" % (self.__hours, self.__minutes, self.__seconds)"
   ]
  },
  {
   "cell_type": "code",
   "execution_count": 8,
   "id": "48eca809",
   "metadata": {},
   "outputs": [
    {
     "name": "stdout",
     "output_type": "stream",
     "text": [
      " 8:30: 0\n"
     ]
    }
   ],
   "source": [
    "obj = Clock(8, 30, 0)\n",
    "print(obj)"
   ]
  },
  {
   "cell_type": "code",
   "execution_count": 9,
   "id": "336d0af5",
   "metadata": {},
   "outputs": [],
   "source": [
    "class CalendarClock(Clock, Calendar):\n",
    "    def __init__(self, day, month, year, hours=0, minutes=0,seconds=0):\n",
    "        Calendar.__init__(self, day, month, year)\n",
    "        Clock.__init__(self, hours, minutes, seconds)\n",
    "\n",
    "\n",
    "    def __str__(self):\n",
    "        return Calendar.__str__(self) + \", \" + Clock.__str__(self)"
   ]
  },
  {
   "cell_type": "code",
   "execution_count": 10,
   "id": "0089f5e8",
   "metadata": {},
   "outputs": [
    {
     "name": "stdout",
     "output_type": "stream",
     "text": [
      "3/11/2022,  0: 0: 0\n"
     ]
    }
   ],
   "source": [
    "obj = CalendarClock(3, 11, 2022)\n",
    "print(obj)"
   ]
  }
 ],
 "metadata": {
  "kernelspec": {
   "display_name": "Python 3 (ipykernel)",
   "language": "python",
   "name": "python3"
  },
  "language_info": {
   "codemirror_mode": {
    "name": "ipython",
    "version": 3
   },
   "file_extension": ".py",
   "mimetype": "text/x-python",
   "name": "python",
   "nbconvert_exporter": "python",
   "pygments_lexer": "ipython3",
   "version": "3.10.2"
  }
 },
 "nbformat": 4,
 "nbformat_minor": 5
}
