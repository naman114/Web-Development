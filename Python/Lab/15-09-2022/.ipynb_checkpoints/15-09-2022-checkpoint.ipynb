{
 "cells": [
  {
   "cell_type": "markdown",
   "id": "57912924",
   "metadata": {},
   "source": [
    "# Experiment 5\n",
    "\n",
    "### Create a csv file with name, age , profession data in different rows\n",
    "### read the file contents into list of lists\n",
    "### using info in the 1st column in csv file extract the data into seperate lists for age, name, profession\n",
    "### create a dictionary of people with their profession, such that they are over voting age\n",
    "### calculate the number of students in the voter list.\n",
    "### write the voter list dictionary into another csv file"
   ]
  },
  {
   "cell_type": "markdown",
   "id": "cd86ed59",
   "metadata": {},
   "source": [
    "## Read the file contents into list of lists"
   ]
  },
  {
   "cell_type": "code",
   "execution_count": 1,
   "id": "95325617",
   "metadata": {},
   "outputs": [],
   "source": [
    "import csv"
   ]
  },
  {
   "cell_type": "code",
   "execution_count": 2,
   "id": "a301ea09",
   "metadata": {},
   "outputs": [
    {
     "name": "stdout",
     "output_type": "stream",
     "text": [
      "[['age', '16', '17', '25', '41', '19', '31'], ['profession', 'student', 'student', 'edtech', 'manager', 'student', 'engineer'], ['name', 'x', 'y', 'z', 'p', 'q', 'r']]\n"
     ]
    }
   ],
   "source": [
    "data = []\n",
    "\n",
    "with open('sample.csv', 'r') as f:\n",
    "    reader = csv.reader(f)\n",
    "    for line in reader:\n",
    "        data.append(line)\n",
    "\n",
    "print(data)"
   ]
  },
  {
   "cell_type": "markdown",
   "id": "93525495",
   "metadata": {},
   "source": [
    "## Using the information in the 1st column of the csv file, extract the data into separate lists for age, name and profession"
   ]
  },
  {
   "cell_type": "code",
   "execution_count": 3,
   "id": "72d95d61",
   "metadata": {},
   "outputs": [
    {
     "name": "stdout",
     "output_type": "stream",
     "text": [
      "[['16', '17', '25', '41', '19', '31'], ['student', 'student', 'edtech', 'manager', 'student', 'engineer'], ['x', 'y', 'z', 'p', 'q', 'r']]\n"
     ]
    }
   ],
   "source": [
    "for row in data:\n",
    "    row.pop(0)\n",
    "print(data)"
   ]
  },
  {
   "cell_type": "markdown",
   "id": "a9a22321",
   "metadata": {},
   "source": [
    "## Create a dictionary of people with their professions such that they are over voting age (age > 18)"
   ]
  },
  {
   "cell_type": "code",
   "execution_count": 4,
   "id": "bf8f259c",
   "metadata": {},
   "outputs": [
    {
     "name": "stdout",
     "output_type": "stream",
     "text": [
      "{'z': 'edtech', 'p': 'manager', 'q': 'student', 'r': 'engineer'}\n"
     ]
    }
   ],
   "source": [
    "voters = {}\n",
    "\n",
    "peopleCount = len(data[0])\n",
    "\n",
    "for i in range(peopleCount):\n",
    "    if(int(data[0][i]) > 18):\n",
    "        voters[data[2][i]] = data[1][i]\n",
    "\n",
    "print(voters)"
   ]
  },
  {
   "cell_type": "markdown",
   "id": "700fb437",
   "metadata": {},
   "source": [
    "## Calculate the number of students in the voter list"
   ]
  },
  {
   "cell_type": "code",
   "execution_count": 5,
   "id": "7f19d760",
   "metadata": {},
   "outputs": [
    {
     "name": "stdout",
     "output_type": "stream",
     "text": [
      "1\n"
     ]
    }
   ],
   "source": [
    "studentCount = 0\n",
    "\n",
    "for name in voters:\n",
    "    if(voters[name] == \"student\"):\n",
    "        studentCount += 1\n",
    "\n",
    "print(studentCount)"
   ]
  },
  {
   "cell_type": "markdown",
   "id": "96688f8c",
   "metadata": {},
   "source": [
    "## Write the volterlist dictionary into another CSV file"
   ]
  },
  {
   "cell_type": "code",
   "execution_count": 6,
   "id": "6bd31dfe",
   "metadata": {
    "scrolled": false
   },
   "outputs": [],
   "source": [
    "with open('voterlist.csv', 'w') as f:\n",
    "    writer = csv.writer(f)\n",
    "    for key, value in voters.items():\n",
    "        writer.writerow([key, value])"
   ]
  }
 ],
 "metadata": {
  "kernelspec": {
   "display_name": "Python 3 (ipykernel)",
   "language": "python",
   "name": "python3"
  },
  "language_info": {
   "codemirror_mode": {
    "name": "ipython",
    "version": 3
   },
   "file_extension": ".py",
   "mimetype": "text/x-python",
   "name": "python",
   "nbconvert_exporter": "python",
   "pygments_lexer": "ipython3",
   "version": "3.10.2"
  }
 },
 "nbformat": 4,
 "nbformat_minor": 5
}
