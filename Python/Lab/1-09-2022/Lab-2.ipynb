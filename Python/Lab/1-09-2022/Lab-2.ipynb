{
 "cells": [
  {
   "cell_type": "markdown",
   "id": "bc252be7",
   "metadata": {},
   "source": [
    "# Realize XOR Gate using MC-Pitt NN"
   ]
  },
  {
   "cell_type": "code",
   "execution_count": 1,
   "id": "dd8520e1",
   "metadata": {},
   "outputs": [],
   "source": [
    "import numpy as np"
   ]
  },
  {
   "cell_type": "code",
   "execution_count": 2,
   "id": "ce140c8a",
   "metadata": {},
   "outputs": [
    {
     "name": "stdout",
     "output_type": "stream",
     "text": [
      "W11, W12, W21, W22, V1, V2, theta: 2 -1 -1 2 2 2 1\n",
      "Result: [0. 1. 1. 0.]\n",
      "Expected result obtained!\n"
     ]
    }
   ],
   "source": [
    "X1 = np.array([0, 0, 1, 1])\n",
    "X2 = np.array([0, 1, 0, 1])\n",
    "Y = np.array([0, 1, 1, 0])\n",
    "\n",
    "is_complete = 0\n",
    "\n",
    "while not is_complete:\n",
    "    Y_Star = np.zeros(4)\n",
    "        \n",
    "    [W11, W12, W21, W22, V1, V2, theta] = [float(x) for x in input(\"W11, W12, W21, W22, V1, V2, theta: \").split(\" \")]\n",
    "    \n",
    "    # Layer 1\n",
    "\n",
    "    Zin1 = X1*W11 + X2*W21\n",
    "    Zin2 = X1*W12 + X2*W22\n",
    "\n",
    "    Yin1 = np.zeros(4)\n",
    "    Yin2 = np.zeros(4)\n",
    "    \n",
    "    for i in range(4):\n",
    "        if Zin1[i] - theta > 0:\n",
    "            Yin1[i] = 1\n",
    "\n",
    "        if Zin2[i] - theta > 0:\n",
    "            Yin2[i] = 1\n",
    "    \n",
    "    # Layer 2\n",
    "    \n",
    "    Y1 = np.zeros(4)\n",
    "    for i in range(4):\n",
    "        Y1[i] = Yin1[i]*V1 + Yin2[i]*V2\n",
    "        if Y1[i] - theta > 0:\n",
    "            Y_Star[i] = 1\n",
    "        else:\n",
    "            Y_Star[i] = 0\n",
    "    \n",
    "    # Result\n",
    "    \n",
    "    print(\"Result:\", Y_Star)\n",
    "    \n",
    "    if list(Y) == list(Y_Star):\n",
    "        is_complete = 1\n",
    "        print(\"Expected result obtained!\")\n",
    "    else:\n",
    "        print(\"Try Again\")\n",
    "        \n",
    "    \n",
    "    "
   ]
  },
  {
   "cell_type": "code",
   "execution_count": null,
   "id": "243d859a",
   "metadata": {},
   "outputs": [],
   "source": []
  }
 ],
 "metadata": {
  "kernelspec": {
   "display_name": "Python 3 (ipykernel)",
   "language": "python",
   "name": "python3"
  },
  "language_info": {
   "codemirror_mode": {
    "name": "ipython",
    "version": 3
   },
   "file_extension": ".py",
   "mimetype": "text/x-python",
   "name": "python",
   "nbconvert_exporter": "python",
   "pygments_lexer": "ipython3",
   "version": "3.10.2"
  }
 },
 "nbformat": 4,
 "nbformat_minor": 5
}
