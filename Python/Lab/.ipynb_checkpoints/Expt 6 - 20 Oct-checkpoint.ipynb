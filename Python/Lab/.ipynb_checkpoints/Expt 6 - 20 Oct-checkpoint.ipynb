{
 "cells": [
  {
   "cell_type": "markdown",
   "id": "4681808d",
   "metadata": {},
   "source": [
    "# Experiment 6\n",
    "\n",
    "### Create a Rectangle class having suitable properties to represent a rectangle\n",
    "### Allow the user to shift the rectangle to a different position on the coordinate plane\n",
    "### Compute the shortest enclosing rectangle for 2 Rectangles taken as input"
   ]
  },
  {
   "cell_type": "code",
   "execution_count": 51,
   "id": "175b2181",
   "metadata": {},
   "outputs": [],
   "source": [
    "class Rectangle:\n",
    "    def __init__(self):\n",
    "        self.length = 0\n",
    "        self.breadth = 0\n",
    "        self.X = 0\n",
    "        self.Y = 0\n",
    "    \n",
    "    def __str__(self):\n",
    "        c = self.get_coordinates()\n",
    "        return \"p1={},{} p2={},{} p3={},{} p4={},{}\".format(c[0], c[1], c[2], c[3], c[4], c[5], c[6], c[7])\n",
    "    \n",
    "    @property\n",
    "    def length(self):\n",
    "        return self._length\n",
    "    \n",
    "    @property\n",
    "    def breadth(self):\n",
    "        return self._breadth\n",
    "    \n",
    "    @property\n",
    "    def X(self):\n",
    "        return self._X\n",
    "    \n",
    "    @property\n",
    "    def Y(self):\n",
    "        return self._Y\n",
    "    \n",
    "    @length.setter\n",
    "    def length(self, l):\n",
    "        self._length = l\n",
    "    \n",
    "    @breadth.setter\n",
    "    def breadth(self, b):\n",
    "        self._breadth = b\n",
    "    \n",
    "    @X.setter\n",
    "    def X(self, x):\n",
    "        self._X = x\n",
    "    \n",
    "    @Y.setter\n",
    "    def Y(self, y):\n",
    "        self._Y = y\n",
    "    \n",
    "    def get_coordinates(self):\n",
    "        x_back = self.X - self.breadth/2\n",
    "        x_fwd = self.X + self.breadth/2\n",
    "        y_back = self.Y - self.length/2\n",
    "        y_fwd = self.Y + self.length/2\n",
    "        \n",
    "        return [x_back, y_fwd, x_fwd, y_fwd, x_fwd, y_back, x_back, y_back]"
   ]
  },
  {
   "cell_type": "code",
   "execution_count": 52,
   "id": "90b89fa0",
   "metadata": {},
   "outputs": [
    {
     "name": "stdout",
     "output_type": "stream",
     "text": [
      "Enter original l, b, x and y: 2 2 0 0\n",
      "Original rectangle:  p1=-1.0,1.0 p2=1.0,1.0 p3=1.0,-1.0 p4=-1.0,-1.0\n",
      "Enter shifted l, b, x and y: 4 6 3 2\n",
      "Original rectangle:  p1=0.0,4.0 p2=6.0,4.0 p3=6.0,0.0 p4=0.0,0.0\n"
     ]
    }
   ],
   "source": [
    "r1 = Rectangle()\n",
    "\n",
    "[r1.length, r1.breadth, r1.X, r1.Y] = [int(x) for x in input(\"Enter original l, b, x and y: \").split()]\n",
    "\n",
    "print(\"Original rectangle: \", r1)\n",
    "\n",
    "[r1.length, r1.breadth, r1.X, r1.Y] = [int(x) for x in input(\"Enter shifted l, b, x and y: \").split()]\n",
    "\n",
    "print(\"Shifted rectangle: \", r1)"
   ]
  },
  {
   "cell_type": "code",
   "execution_count": 53,
   "id": "420eb98d",
   "metadata": {},
   "outputs": [],
   "source": [
    "def get_enclosing_rectangle(r1, r2):\n",
    "    c1 = r1.get_coordinates()\n",
    "    r1_x = [c1[0], c1[2], c1[4], c1[6]]\n",
    "    r1_y = [c1[1], c1[3], c1[5], c1[7]]\n",
    "    c2 = r2.get_coordinates()\n",
    "    r2_x = [c2[0], c2[2], c2[4], c2[6]]\n",
    "    r2_y = [c2[1], c2[3], c2[5], c2[7]]\n",
    "    \n",
    "    x_min = min(min(r1_x), min(r2_x))\n",
    "    y_min = min(min(r2_y), min(r2_y))\n",
    "    x_max = max(max(r1_x), max(r2_x))\n",
    "    y_max = max(max(r2_y), max(r2_y))\n",
    "    \n",
    "    p1 = [x_min, y_max]\n",
    "    p2 = [x_max, y_max]\n",
    "    p3 = [x_max, y_min]\n",
    "    p4 = [x_min, y_min]\n",
    "    \n",
    "    l = p2[1] - p3[1]\n",
    "    b = p2[0] - p1[0]\n",
    "    x = p1[0] + b/2\n",
    "    y = p1[1] - l/2\n",
    "    \n",
    "    r = Rectangle()\n",
    "    [r.length, r.breadth, r.X, r.Y] = [l, b, x, y]\n",
    "    \n",
    "    return r"
   ]
  },
  {
   "cell_type": "code",
   "execution_count": 54,
   "id": "4069877b",
   "metadata": {},
   "outputs": [
    {
     "name": "stdout",
     "output_type": "stream",
     "text": [
      "Enter l, b, x and y (Rectangle 1)2 2 -1 0\n",
      "Enter l, b, x and y (Rectangle 2)2 2 1 0\n",
      "Enclosing rectangle:  p1=-2.0,1.0 p2=2.0,1.0 p3=2.0,-1.0 p4=-2.0,-1.0\n"
     ]
    }
   ],
   "source": [
    "r1 = Rectangle()\n",
    "\n",
    "[r1.length, r1.breadth, r1.X, r1.Y] = [int(x) for x in input(\"Enter l, b, x and y (Rectangle 1)\").split()]\n",
    "\n",
    "r2 = Rectangle()\n",
    "\n",
    "[r2.length, r2.breadth, r2.X, r2.Y] = [int(x) for x in input(\"Enter l, b, x and y (Rectangle 2)\").split()]\n",
    "\n",
    "r3 = get_enclosing_rectangle(r1, r2)\n",
    "\n",
    "print(\"Enclosing rectangle: \", r3)"
   ]
  }
 ],
 "metadata": {
  "kernelspec": {
   "display_name": "Python 3 (ipykernel)",
   "language": "python",
   "name": "python3"
  },
  "language_info": {
   "codemirror_mode": {
    "name": "ipython",
    "version": 3
   },
   "file_extension": ".py",
   "mimetype": "text/x-python",
   "name": "python",
   "nbconvert_exporter": "python",
   "pygments_lexer": "ipython3",
   "version": "3.10.2"
  }
 },
 "nbformat": 4,
 "nbformat_minor": 5
}
