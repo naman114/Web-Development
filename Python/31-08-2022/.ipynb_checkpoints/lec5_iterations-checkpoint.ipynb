{
 "cells": [
  {
   "cell_type": "markdown",
   "id": "40244518",
   "metadata": {},
   "source": [
    "# Iteration basics\n",
    "\n",
    "     \n",
    "<span style='color:green'> Repetition statements (or loops) repeat an action</span>\n",
    "    \n",
    "    • Each repetition of action is known as pass or iteration\n",
    "    • Two types of loops\n",
    "        1- Those that repeat action a predefined number of\n",
    "          times (definite iteration)   'FOR LOOP'\n",
    "          \n",
    "        2- Those that perform action until program determines\n",
    "          it needs to stop (indefinite iteration)   'WHILE LOOP'"
   ]
  },
  {
   "cell_type": "markdown",
   "id": "936090de",
   "metadata": {},
   "source": [
    "# While Loop\n",
    "\n",
    "<span style='color:red'>*It is not always known ahead of the execution how many times the loop will have to repeat its block.*</span>\n",
    "\n",
    "* Load some numbers until a zero is loaded and do something with them\n",
    "    \n",
    "* Do something with number's digits (technically, we can count the digits   first, but that'd be a waste of time);\n",
    "    \n",
    "* Read the data as long as there is input (from a file, standard input,  etc.).\n",
    "\n",
    "## while loop is also called entry-control loop\n",
    "* Condition is tested at top of loop\n",
    "* Statements within loop can execute zero or more times\n",
    "* Example: A program’s input loop that accepts values until user enters a   <span style='color:red'>**sentinel**</span> that terminates the input\n",
    " \n",
    "  "
   ]
  },
  {
   "cell_type": "code",
   "execution_count": 6,
   "id": "c2f76f0e",
   "metadata": {},
   "outputs": [
    {
     "name": "stdout",
     "output_type": "stream",
     "text": [
      "n = 10\n",
      "0, 1, 2, 3, 4, 5, 6, 7, 8, 9, "
     ]
    }
   ],
   "source": [
    "# Example 1\n",
    "n = int(input(\"n = \"))\n",
    "i = 0\n",
    "while i < n:\n",
    "    print(i, end=', ')\n",
    "    i += 1\n"
   ]
  },
  {
   "cell_type": "code",
   "execution_count": 3,
   "id": "49e1b5e5",
   "metadata": {},
   "outputs": [
    {
     "name": "stdout",
     "output_type": "stream",
     "text": [
      " - - \n",
      "  !  \n",
      "-----\n",
      "\n",
      "\n",
      "Enter a character ('q' for quit): \n",
      "##\n",
      " # # \n",
      "  !  \n",
      "#####\n",
      "\n",
      "\n",
      "Enter a character ('q' for quit): \n",
      "q\n",
      "Goodbye.\n",
      "\n"
     ]
    }
   ],
   "source": [
    "# Example 2\n",
    "nose = '!'  # Looks a little like a nose\n",
    "user_value = '-'\n",
    "\n",
    "while user_value != 'q':\n",
    "    print(f' {user_value} {user_value} ')  # Print eyes     \n",
    "    print(f'  {nose}  ')  # Print nose     \n",
    "    print(user_value*5)  # Print mouth\n",
    "    print('\\n')\n",
    "\n",
    "    # Get new character for eyes and mouth\n",
    "    user_input = input(\"Enter a character ('q' for quit): \\n\")\n",
    "    user_value = user_input[0]\n",
    "\n",
    "print('Goodbye.\\n')"
   ]
  },
  {
   "cell_type": "code",
   "execution_count": 10,
   "id": "e433dbc0",
   "metadata": {},
   "outputs": [
    {
     "name": "stdout",
     "output_type": "stream",
     "text": [
      "enter a number: 45897\n",
      "7\n",
      "9\n",
      "8\n",
      "5\n",
      "4\n",
      "no of digits= 5\n"
     ]
    }
   ],
   "source": [
    "# Exercise 1 : Count the number of digits in a user input and print them \n",
    "\n",
    "#initialize the counter\n",
    "count=0\n",
    "#take user inputs\n",
    "num=int(input('enter a number: '))\n",
    "#iterate till no digit remaining\n",
    "while num > 0:\n",
    "    print(num%10)\n",
    "    count+=1\n",
    "    num=num//10\n",
    "print('no of digits=',count)\n",
    "    "
   ]
  },
  {
   "cell_type": "markdown",
   "id": "4413b6b1",
   "metadata": {},
   "source": [
    "**Beware of infinite loops**\n",
    "\n",
    "    num=int(input('enter a number: '))\n",
    "    while n!=3:\n",
    "        num/=2\n",
    "        print(num)"
   ]
  },
  {
   "cell_type": "code",
   "execution_count": 9,
   "id": "7bec0acb",
   "metadata": {},
   "outputs": [
    {
     "data": {
      "text/plain": [
       "'Repeat an action untill sentinel is seen'"
      ]
     },
     "execution_count": 9,
     "metadata": {},
     "output_type": "execute_result"
    }
   ],
   "source": [
    "'''Repeat an action untill sentinel is seen'''\n",
    "\n",
    "'''Outputs average of list of positive integers\n",
    "List ends with 0 (sentinel)\n",
    "Ex: 10 1 6 3 0  yields (10 + 1 + 6 + 3) / 4, or 5\n",
    "'''\n",
    "#initialize the sum\n",
    "values_sum = 0\n",
    "#initialize the counter\n",
    "num_values = 0\n",
    "# take user input\n",
    "curr_value = int(input('enter non negative integers:'))\n",
    "# iterte till sentinel ''0 is encounterd   \n",
    "while curr_value > 0: # Get values until 0 (or less)\n",
    "    values_sum += curr_value\n",
    "    num_values += 1\n",
    "    curr_value = int(input())\n",
    "\n",
    "print(f'Average: {values_sum / num_values:.0f}\\n')'''\n"
   ]
  },
  {
   "cell_type": "markdown",
   "id": "0e5e4c5c",
   "metadata": {},
   "source": [
    "# For loop Basics\n",
    "\n",
    "## iterating through a container\n",
    "\n",
    "    for variable in container:\n",
    "         # Loop body: Sub-statements to execute\n",
    "         # for each item in the container\n",
    "    Statements to execute after the for loop is complete"
   ]
  },
  {
   "cell_type": "code",
   "execution_count": 11,
   "id": "d86b5c80",
   "metadata": {},
   "outputs": [
    {
     "name": "stdout",
     "output_type": "stream",
     "text": [
      "Hi Bill!\n",
      "Hi Nicole!\n",
      "Hi John!\n"
     ]
    }
   ],
   "source": [
    "# printing names in a list\n",
    "for name in ['Bill', 'Nicole', 'John']:\n",
    "    print(f'Hi {name}!')   # makes no sense, can directly print. toy example\n",
    "\n"
   ]
  },
  {
   "cell_type": "code",
   "execution_count": 12,
   "id": "965cf5d9",
   "metadata": {},
   "outputs": [
    {
     "name": "stdout",
     "output_type": "stream",
     "text": [
      "give me a string: india\n",
      "i_n_d_i_a_\n"
     ]
    }
   ],
   "source": [
    "# change a string by each character\n",
    "str1=input('give me a string: ')\n",
    "my_str = ''\n",
    "for character in str1:\n",
    "    my_str += character + '_'\n",
    "print(my_str)"
   ]
  },
  {
   "cell_type": "code",
   "execution_count": 13,
   "id": "01c4c471",
   "metadata": {},
   "outputs": [
    {
     "name": "stdout",
     "output_type": "stream",
     "text": [
      "Weekly revenue: $13888.69\n",
      "Daily average revenue: $1984.10\n"
     ]
    }
   ],
   "source": [
    "# going through a dictionary\n",
    "daily_revenues = [\n",
    "    2356.23,  # Monday\n",
    "    1800.12,  # Tuesday\n",
    "    1792.50,  # Wednesday\n",
    "    2058.10,  # Thursday\n",
    "    1988.00,  # Friday\n",
    "    2002.99,  # Saturday\n",
    "    1890.75   # Sunday\n",
    "]\n",
    "\n",
    "total = 0\n",
    "for day in daily_revenues:\n",
    "    total += day\n",
    "\n",
    "average = total / len(daily_revenues)\n",
    "\n",
    "print(f'Weekly revenue: ${total:.2f}')\n",
    "print(f'Daily average revenue: ${average:.2f}')"
   ]
  },
  {
   "cell_type": "markdown",
   "id": "7d128bd7",
   "metadata": {},
   "source": [
    "# Count-Controlled Loops\n",
    "\n",
    "<span style='color:red'>**Counting using the range() function**</span>\n",
    "\n",
    "* range(Y) generates a sequence of all non-negative integers less than Y.\n",
    "    \n",
    "    Ex: range(3) creates the sequence 0, 1, 2.\n",
    "    \n",
    "* range(X, Y) generates a sequence of all integers >= X and < Y.\n",
    "    \n",
    "    Ex: range(-7, -3) creates the sequence -7, -6, -5, -4.\n",
    "    \n",
    "* range(X, Y, Z), where Z is positive, generates a sequence of all integers >=  X and < Y, incrementing by Z.\n",
    "\n",
    "  Ex: range(0, 50, 10) creates the sequence 0, 10, 20, 30, 40.\n",
    "  \n",
    "* range(X, Y, Z), where Z is negative, generates a sequence of all integers <= X and > Y, incrementing by Z.\n",
    "\n",
    "  Ex: range(3, -1, -1) creates the sequence 3, 2, 1, 0."
   ]
  },
  {
   "cell_type": "code",
   "execution_count": 17,
   "id": "b2e2fbb7",
   "metadata": {},
   "outputs": [
    {
     "name": "stdout",
     "output_type": "stream",
     "text": [
      "Enter the principal: 10000\n",
      "Enter your bank interest rate: 5\n",
      "Enter years: 5\n",
      "\n",
      " Savings in year 0: $10000.00\n",
      " Savings in year 1: $10500.00\n",
      " Savings in year 2: $11025.00\n",
      " Savings in year 3: $11576.25\n",
      " Savings in year 4: $12155.06\n",
      "\n",
      "\n"
     ]
    }
   ],
   "source": [
    "'''Program that calculates savings and interest'''\n",
    "\n",
    "initial_savings = int(input('Enter the principal: '))\n",
    "interest_rate = float(input('Enter your bank interest rate: '))/100\n",
    "\n",
    "years = int(input('Enter years: '))\n",
    "print()\n",
    "\n",
    "savings = initial_savings\n",
    "for i in range(years):\n",
    "    print(f' Savings in year {i}: ${savings:.2f}')\n",
    "    savings = savings + (savings*interest_rate)\n",
    "\n",
    "print('\\n')"
   ]
  },
  {
   "cell_type": "markdown",
   "id": "3972b0fb",
   "metadata": {},
   "source": [
    "# Loops within loops or Nested Loops"
   ]
  },
  {
   "cell_type": "code",
   "execution_count": 19,
   "id": "b9f920d0",
   "metadata": {},
   "outputs": [
    {
     "name": "stdout",
     "output_type": "stream",
     "text": [
      "\n",
      "*\n",
      "**\n",
      "***\n",
      "****\n",
      "*****\n",
      "****\n",
      "***\n",
      "**\n",
      "*\n"
     ]
    }
   ],
   "source": [
    "# print a simple art\n",
    "n=5\n",
    "for i in range(n):\n",
    "    for j in range(i):\n",
    "        print ('*', end=\"\")        \n",
    "    print('')\n",
    "for i in range(n,0,-1):\n",
    "    for j in range(i):\n",
    "        print('*', end=\"\")\n",
    "    print('')"
   ]
  },
  {
   "cell_type": "markdown",
   "id": "96f22015",
   "metadata": {},
   "source": [
    "# Loops with conditional"
   ]
  },
  {
   "cell_type": "code",
   "execution_count": 21,
   "id": "2fb74367",
   "metadata": {},
   "outputs": [
    {
     "name": "stdout",
     "output_type": "stream",
     "text": [
      "Tell me something about yourself.\n",
      "You can type 'Goodbye' at anytime to quit.\n",
      "\n",
      "hi\n",
      "\n",
      "Why do you say: 'hi'?\n",
      "\n",
      "go\n",
      "\n",
      "Please explain further.\n",
      "\n",
      "i don't know\n",
      "\n",
      "What else can you share?\n",
      "\n",
      "nothing\n",
      "\n",
      "Why do you say: 'nothing'?\n",
      "\n",
      "Goodbye\n",
      "It was nice talking with you. Goodbye.\n",
      "\n"
     ]
    }
   ],
   "source": [
    "'''\n",
    "Program that has a conversation with the user.\n",
    "Uses elif branching and a random number to mix up the program's responses.\n",
    "'''\n",
    "import random  # Import a library to generate random numbers\n",
    "\n",
    "print('Tell me something about yourself.')\n",
    "print('You can type \\'Goodbye\\' at anytime to quit.\\n')\n",
    "\n",
    "user_text = input()\n",
    "\n",
    "while user_text != 'Goodbye':\n",
    "    random_num = random.randint(0, 2)  # Gives a random integer between 0 and 2\n",
    "    if random_num == 0:\n",
    "        print('\\nPlease explain further.\\n')\n",
    "    elif random_num == 1:\n",
    "        print(f\"\\nWhy do you say: '{user_text}'?\\n\")\n",
    "    elif random_num == 2:\n",
    "        print('\\nWhat else can you share?\\n')\n",
    "    else:\n",
    "        print('\\nUh-oh, something went wrong. Try again.\\n')\n",
    "\n",
    "    user_text = input()\n",
    "\n",
    "print('It was nice talking with you. Goodbye.\\n')"
   ]
  },
  {
   "cell_type": "code",
   "execution_count": null,
   "id": "807b22b9",
   "metadata": {},
   "outputs": [],
   "source": []
  }
 ],
 "metadata": {
  "kernelspec": {
   "display_name": "Python 3 (ipykernel)",
   "language": "python",
   "name": "python3"
  },
  "language_info": {
   "codemirror_mode": {
    "name": "ipython",
    "version": 3
   },
   "file_extension": ".py",
   "mimetype": "text/x-python",
   "name": "python",
   "nbconvert_exporter": "python",
   "pygments_lexer": "ipython3",
   "version": "3.10.2"
  }
 },
 "nbformat": 4,
 "nbformat_minor": 5
}
