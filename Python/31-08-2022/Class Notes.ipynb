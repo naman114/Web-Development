{
 "cells": [
  {
   "cell_type": "markdown",
   "id": "11577cff",
   "metadata": {},
   "source": [
    "# Iterations"
   ]
  },
  {
   "cell_type": "markdown",
   "id": "d8b43570",
   "metadata": {},
   "source": [
    "### for: when depending on condition\n",
    "### while: when depending on counts"
   ]
  },
  {
   "cell_type": "code",
   "execution_count": null,
   "id": "ae426c27",
   "metadata": {},
   "outputs": [],
   "source": []
  }
 ],
 "metadata": {
  "kernelspec": {
   "display_name": "Python 3 (ipykernel)",
   "language": "python",
   "name": "python3"
  },
  "language_info": {
   "codemirror_mode": {
    "name": "ipython",
    "version": 3
   },
   "file_extension": ".py",
   "mimetype": "text/x-python",
   "name": "python",
   "nbconvert_exporter": "python",
   "pygments_lexer": "ipython3",
   "version": "3.10.2"
  }
 },
 "nbformat": 4,
 "nbformat_minor": 5
}
